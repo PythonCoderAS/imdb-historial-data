{
 "cells": [
  {
   "cell_type": "code",
   "execution_count": 22,
   "id": "74109956",
   "metadata": {},
   "outputs": [],
   "source": [
    "import re\n",
    "\n",
    "# Setup constants used elsewhere\n",
    "\n",
    "date_pattern = re.compile(r'As of ([A-Za-z]{3,}) (20\\d{2})', re.IGNORECASE)\n",
    "item_count = re.compile(r'Total Data Items: ([\\d,]+)')\n",
    "data_yyyymm = re.compile(r'(20\\d{2})(\\d{2})')\n",
    "month_map = dict(jan=1, feb=2, mar=3, apr=4, may=5, jun=6, jul=7, aug=8, sep=9, oct=10, nov=11, dec=12, january=1, february=2, march=3, april=4, june=6, july=7, august=8, september=9, october=10, november=11, december=12)\n",
    "exclude_list = [\n",
    "    \"202104\", # This month's data is missing # of records\n",
    "    \"202105\", # Same \"data month\" as above\n",
    "    \"202106\", # Same \"data month\" as above\n",
    "    \"202107\", # This month's data is missing # of records\n",
    "    \"202108\", # Same \"data month\" as above\n",
    "]\n",
    "archive_url_regex = re.compile(r'GET /web/(\\d{14})/')\n",
    "archive_url_template = \"https://web.archive.org/web/{timestamp}/https://www.imdb.com/pressroom/stats/\""
   ]
  },
  {
   "cell_type": "code",
   "execution_count": 23,
   "id": "0930500f",
   "metadata": {},
   "outputs": [],
   "source": [
    "import pathlib\n",
    "\n",
    "# Load data file list from disk\n",
    "\n",
    "data_files = sorted([item for item in pathlib.Path(\"./data/\").glob(\"*.txt\") if not any([exclude in item.name for exclude in exclude_list])])"
   ]
  },
  {
   "cell_type": "code",
   "execution_count": 24,
   "id": "3def33cb",
   "metadata": {},
   "outputs": [],
   "source": [
    "import datetime\n",
    "\n",
    "def get_file_data(file: pathlib.Path) -> tuple[tuple[int, int], tuple[int, int], int, str, datetime.datetime]:\n",
    "    \"\"\"Returns: [[file_year, file_month], [data_year, data_month], num_records, archive_url, archive_date_timestamp]\"\"\"\n",
    "    # print(file)\n",
    "    file_text = file.read_text()\n",
    "    archive_original_timestamp = archive_url_regex.findall(file_text.partition(\"<!DOCTYPE html>\")[0])[-1]\n",
    "    archive_date = datetime.datetime.strptime(archive_original_timestamp, \"%Y%m%d%H%M%S\")\n",
    "    # print(archive_url_template.format(timestamp=archive_original_timestamp))\n",
    "    file_year, file_month = data_yyyymm.search(file.name).group(1, 2)\n",
    "    data_month, data_year = date_pattern.search(file_text).group(1, 2)\n",
    "    num_records = item_count.search(file_text).group(1)\n",
    "    return ((int(file_year), int(file_month)), (int(data_year), month_map[data_month.lower()]), int(num_records.replace(\",\", \"\")), archive_url_template.format(timestamp=archive_original_timestamp), archive_date)"
   ]
  },
  {
   "cell_type": "code",
   "execution_count": 25,
   "id": "1d5e12f1",
   "metadata": {},
   "outputs": [],
   "source": [
    "computed = [get_file_data(f) for f in data_files]\n",
    "unique_data_months = { item[1]: item for item in computed }"
   ]
  },
  {
   "cell_type": "code",
   "execution_count": 34,
   "id": "408f87a5",
   "metadata": {},
   "outputs": [
    {
     "name": "stdout",
     "output_type": "stream",
     "text": [
      "Data Year/Data Month,# of Records,Archive URL,Archive Date\n",
      "2019/5,\"336,394,426\",https://web.archive.org/web/20191122024753/https://www.imdb.com/pressroom/stats/,2019-11-22 02:47:53\n",
      "2019/12,\"364,275,174\",https://web.archive.org/web/20200521064449/https://www.imdb.com/pressroom/stats/,2020-05-21 06:44:49\n",
      "2020/6,\"384,871,729\",https://web.archive.org/web/20200715020304/https://www.imdb.com/pressroom/stats/,2020-07-15 02:03:04\n",
      "2020/10,\"399,737,106\",https://web.archive.org/web/20201111220945/https://www.imdb.com/pressroom/stats/,2020-11-11 22:09:45\n",
      "2020/12,\"404,763,829\",https://web.archive.org/web/20210228150759/https://www.imdb.com/pressroom/stats/,2021-02-28 15:07:59\n",
      "2021/9,\"407,000,169\",https://web.archive.org/web/20211107065538/https://www.imdb.com/pressroom/stats/,2021-11-07 06:55:38\n",
      "2021/12,\"428,149,001\",https://web.archive.org/web/20220319195717/https://www.imdb.com/pressroom/stats/,2022-03-19 19:57:17\n",
      "2022/3,\"447,161,643\",https://web.archive.org/web/20220629235407/https://www.imdb.com/pressroom/stats/,2022-06-29 23:54:07\n",
      "2022/6,\"451,282,450\",https://web.archive.org/web/20220901052223/https://www.imdb.com/pressroom/stats/,2022-09-01 05:22:23\n",
      "2022/9,\"465,914,377\",https://web.archive.org/web/20221026144332/https://www.imdb.com/pressroom/stats/,2022-10-26 14:43:32\n",
      "2022/11,\"477,899,162\",https://web.archive.org/web/20221206045738/https://www.imdb.com/pressroom/stats/,2022-12-06 04:57:38\n",
      "2022/12,\"484,123,998\",https://web.archive.org/web/20230330064107/https://www.imdb.com/pressroom/stats/,2023-03-30 06:41:07\n",
      "\n"
     ]
    }
   ],
   "source": [
    "heading=\"Data Year/Data Month,# of Records,Archive URL,Archive Date\"\n",
    "\n",
    "rows = [heading.split(\",\")]\n",
    "for _, (data_month, data_year), num_records, archive_url, archive_date in sorted(unique_data_months.values(), key=lambda x: x[1]):\n",
    "    rows.append([f'{data_month:02d}/{data_year}', f'{num_records:,}', archive_url, archive_date.strftime(\"%Y-%m-%d %H:%M:%S\")])\n",
    "\n",
    "import csv\n",
    "import io\n",
    "\n",
    "csv_file = io.StringIO()\n",
    "csv.writer(csv_file).writerows(rows)\n",
    "csv_file.seek(0)\n",
    "print(csv_file.read())"
   ]
  },
  {
   "attachments": {},
   "cell_type": "markdown",
   "id": "fc6a9864",
   "metadata": {},
   "source": [
    "|Data Year/Data Month|# of Records|Archive URL|Archive Date                                                                    |\n",
    "|--------------------|------------|-----------|--------------------------------------------------------------------------------|\n",
    "|2019/5              |336,394,426 |https://web.archive.org/web/20191122024753/https://www.imdb.com/pressroom/stats/|2019-11-22 02:47:53                                                             |\n",
    "|2019/12             |364,275,174 |https://web.archive.org/web/20200521064449/https://www.imdb.com/pressroom/stats/|2020-05-21 06:44:49                                                             |\n",
    "|2020/6              |384,871,729 |https://web.archive.org/web/20200715020304/https://www.imdb.com/pressroom/stats/|2020-07-15 02:03:04                                                             |\n",
    "|2020/10             |399,737,106 |https://web.archive.org/web/20201111220945/https://www.imdb.com/pressroom/stats/|2020-11-11 22:09:45                                                             |\n",
    "|2020/12             |404,763,829 |https://web.archive.org/web/20210228150759/https://www.imdb.com/pressroom/stats/|2021-02-28 15:07:59                                                             |\n",
    "|2021/9              |407,000,169 |https://web.archive.org/web/20211107065538/https://www.imdb.com/pressroom/stats/|2021-11-07 06:55:38                                                             |\n",
    "|2021/12             |428,149,001 |https://web.archive.org/web/20220319195717/https://www.imdb.com/pressroom/stats/|2022-03-19 19:57:17                                                             |\n",
    "|2022/3              |447,161,643 |https://web.archive.org/web/20220629235407/https://www.imdb.com/pressroom/stats/|2022-06-29 23:54:07                                                             |\n",
    "|2022/6              |451,282,450 |https://web.archive.org/web/20220901052223/https://www.imdb.com/pressroom/stats/|2022-09-01 05:22:23                                                             |\n",
    "|2022/9              |465,914,377 |https://web.archive.org/web/20221026144332/https://www.imdb.com/pressroom/stats/|2022-10-26 14:43:32                                                             |\n",
    "|2022/11             |477,899,162 |https://web.archive.org/web/20221206045738/https://www.imdb.com/pressroom/stats/|2022-12-06 04:57:38                                                             |\n",
    "|2022/12             |484,123,998 |https://web.archive.org/web/20230330064107/https://www.imdb.com/pressroom/stats/|2023-03-30 06:41:07                                                             |\n"
   ]
  },
  {
   "cell_type": "code",
   "execution_count": 35,
   "id": "e8712f39",
   "metadata": {},
   "outputs": [
    {
     "name": "stdout",
     "output_type": "stream",
     "text": [
      "qid,P4876,qal585,S854,s1065,s2960,s813\n",
      "P345,336394426,+2019-05-01T00:00:00Z/10,\"\"\"https://www.imdb.com/pressroom/stats/\"\"\",\"\"\"https://web.archive.org/web/20191122024753/https://www.imdb.com/pressroom/stats/\"\"\",+2019-11-22T02:47:53Z/11,+2023-04-01T08:19:29Z/11\n",
      "P345,364275174,+2019-12-01T00:00:00Z/10,\"\"\"https://www.imdb.com/pressroom/stats/\"\"\",\"\"\"https://web.archive.org/web/20200521064449/https://www.imdb.com/pressroom/stats/\"\"\",+2020-05-21T06:44:49Z/11,+2023-04-01T08:19:29Z/11\n",
      "P345,384871729,+2020-06-01T00:00:00Z/10,\"\"\"https://www.imdb.com/pressroom/stats/\"\"\",\"\"\"https://web.archive.org/web/20200715020304/https://www.imdb.com/pressroom/stats/\"\"\",+2020-07-15T02:03:04Z/11,+2023-04-01T08:19:29Z/11\n",
      "P345,399737106,+2020-10-01T00:00:00Z/10,\"\"\"https://www.imdb.com/pressroom/stats/\"\"\",\"\"\"https://web.archive.org/web/20201111220945/https://www.imdb.com/pressroom/stats/\"\"\",+2020-11-11T22:09:45Z/11,+2023-04-01T08:19:29Z/11\n",
      "P345,404763829,+2020-12-01T00:00:00Z/10,\"\"\"https://www.imdb.com/pressroom/stats/\"\"\",\"\"\"https://web.archive.org/web/20210228150759/https://www.imdb.com/pressroom/stats/\"\"\",+2021-02-28T15:07:59Z/11,+2023-04-01T08:19:29Z/11\n",
      "P345,407000169,+2021-09-01T00:00:00Z/10,\"\"\"https://www.imdb.com/pressroom/stats/\"\"\",\"\"\"https://web.archive.org/web/20211107065538/https://www.imdb.com/pressroom/stats/\"\"\",+2021-11-07T06:55:38Z/11,+2023-04-01T08:19:29Z/11\n",
      "P345,428149001,+2021-12-01T00:00:00Z/10,\"\"\"https://www.imdb.com/pressroom/stats/\"\"\",\"\"\"https://web.archive.org/web/20220319195717/https://www.imdb.com/pressroom/stats/\"\"\",+2022-03-19T19:57:17Z/11,+2023-04-01T08:19:29Z/11\n",
      "P345,447161643,+2022-03-01T00:00:00Z/10,\"\"\"https://www.imdb.com/pressroom/stats/\"\"\",\"\"\"https://web.archive.org/web/20220629235407/https://www.imdb.com/pressroom/stats/\"\"\",+2022-06-29T23:54:07Z/11,+2023-04-01T08:19:29Z/11\n",
      "P345,451282450,+2022-06-01T00:00:00Z/10,\"\"\"https://www.imdb.com/pressroom/stats/\"\"\",\"\"\"https://web.archive.org/web/20220901052223/https://www.imdb.com/pressroom/stats/\"\"\",+2022-09-01T05:22:23Z/11,+2023-04-01T08:19:29Z/11\n",
      "P345,465914377,+2022-09-01T00:00:00Z/10,\"\"\"https://www.imdb.com/pressroom/stats/\"\"\",\"\"\"https://web.archive.org/web/20221026144332/https://www.imdb.com/pressroom/stats/\"\"\",+2022-10-26T14:43:32Z/11,+2023-04-01T08:19:29Z/11\n",
      "P345,477899162,+2022-11-01T00:00:00Z/10,\"\"\"https://www.imdb.com/pressroom/stats/\"\"\",\"\"\"https://web.archive.org/web/20221206045738/https://www.imdb.com/pressroom/stats/\"\"\",+2022-12-06T04:57:38Z/11,+2023-04-01T08:19:29Z/11\n",
      "P345,484123998,+2022-12-01T00:00:00Z/10,\"\"\"https://www.imdb.com/pressroom/stats/\"\"\",\"\"\"https://web.archive.org/web/20230330064107/https://www.imdb.com/pressroom/stats/\"\"\",+2023-03-30T06:41:07Z/11,+2023-04-01T08:19:29Z/11\n"
     ]
    }
   ],
   "source": [
    "heading = \"qid,P4876,qal585,S854,s1065,s2960,s813\"\n",
    "\n",
    "def format_date(date: datetime.datetime, precision: int = 11) -> str:\n",
    "    return f\"+{date.year:04d}-{date.month:02d}-{date.day:02d}T{date.hour:02d}:{date.minute:02d}:{date.second:02d}Z/{precision}\"\n",
    "\n",
    "reference_url = \"https://www.imdb.com/pressroom/stats/\"\n",
    "retrieved = format_date(datetime.datetime.now())\n",
    "qid=\"P345\"\n",
    "print(heading)\n",
    "for (file_year, file_month), (data_year, data_month), num_records, archive_url, archive_date in unique_data_months.values():\n",
    "    print(f'{qid},{num_records},{format_date(datetime.datetime(data_year, data_month, 1), precision=10)},\"\"\"{reference_url}\"\"\",\"\"\"{archive_url}\"\"\",{format_date(archive_date)},{retrieved}')"
   ]
  }
 ],
 "metadata": {
  "kernelspec": {
   "display_name": "Python 3 (ipykernel)",
   "language": "python",
   "name": "python3"
  },
  "language_info": {
   "codemirror_mode": {
    "name": "ipython",
    "version": 3
   },
   "file_extension": ".py",
   "mimetype": "text/x-python",
   "name": "python",
   "nbconvert_exporter": "python",
   "pygments_lexer": "ipython3",
   "version": "3.11.2"
  }
 },
 "nbformat": 4,
 "nbformat_minor": 5
}
